{
 "cells": [
  {
   "cell_type": "markdown",
   "id": "d5dec35f",
   "metadata": {},
   "source": [
    "# LINEAR REGRESSION - House price prediction\n",
    "* THIS IS AN ML MODEL FOR PREDICTING THE PRICE OF THE HOUSE WITH A SINGLE FEATURE SIZE AS AN INPUT.\n",
    "* USING BATCH WISE GRADIENT DESCENT ALGORITHM"
   ]
  },
  {
   "cell_type": "code",
   "execution_count": 1,
   "id": "e7a7c6cb",
   "metadata": {},
   "outputs": [
    {
     "data": {
      "text/html": [
       "<div>\n",
       "<style scoped>\n",
       "    .dataframe tbody tr th:only-of-type {\n",
       "        vertical-align: middle;\n",
       "    }\n",
       "\n",
       "    .dataframe tbody tr th {\n",
       "        vertical-align: top;\n",
       "    }\n",
       "\n",
       "    .dataframe thead th {\n",
       "        text-align: right;\n",
       "    }\n",
       "</style>\n",
       "<table border=\"1\" class=\"dataframe\">\n",
       "  <thead>\n",
       "    <tr style=\"text-align: right;\">\n",
       "      <th></th>\n",
       "      <th>SIZE</th>\n",
       "      <th>PRICE</th>\n",
       "    </tr>\n",
       "  </thead>\n",
       "  <tbody>\n",
       "    <tr>\n",
       "      <th>0</th>\n",
       "      <td>100</td>\n",
       "      <td>345</td>\n",
       "    </tr>\n",
       "    <tr>\n",
       "      <th>1</th>\n",
       "      <td>200</td>\n",
       "      <td>378</td>\n",
       "    </tr>\n",
       "    <tr>\n",
       "      <th>2</th>\n",
       "      <td>469</td>\n",
       "      <td>521</td>\n",
       "    </tr>\n",
       "    <tr>\n",
       "      <th>3</th>\n",
       "      <td>764</td>\n",
       "      <td>845</td>\n",
       "    </tr>\n",
       "    <tr>\n",
       "      <th>4</th>\n",
       "      <td>978</td>\n",
       "      <td>999</td>\n",
       "    </tr>\n",
       "    <tr>\n",
       "      <th>5</th>\n",
       "      <td>288</td>\n",
       "      <td>387</td>\n",
       "    </tr>\n",
       "    <tr>\n",
       "      <th>6</th>\n",
       "      <td>375</td>\n",
       "      <td>476</td>\n",
       "    </tr>\n",
       "    <tr>\n",
       "      <th>7</th>\n",
       "      <td>245</td>\n",
       "      <td>384</td>\n",
       "    </tr>\n",
       "    <tr>\n",
       "      <th>8</th>\n",
       "      <td>798</td>\n",
       "      <td>876</td>\n",
       "    </tr>\n",
       "    <tr>\n",
       "      <th>9</th>\n",
       "      <td>899</td>\n",
       "      <td>987</td>\n",
       "    </tr>\n",
       "    <tr>\n",
       "      <th>10</th>\n",
       "      <td>999</td>\n",
       "      <td>1289</td>\n",
       "    </tr>\n",
       "    <tr>\n",
       "      <th>11</th>\n",
       "      <td>234</td>\n",
       "      <td>324</td>\n",
       "    </tr>\n",
       "    <tr>\n",
       "      <th>12</th>\n",
       "      <td>576</td>\n",
       "      <td>675</td>\n",
       "    </tr>\n",
       "    <tr>\n",
       "      <th>13</th>\n",
       "      <td>789</td>\n",
       "      <td>978</td>\n",
       "    </tr>\n",
       "    <tr>\n",
       "      <th>14</th>\n",
       "      <td>1020</td>\n",
       "      <td>1200</td>\n",
       "    </tr>\n",
       "    <tr>\n",
       "      <th>15</th>\n",
       "      <td>347</td>\n",
       "      <td>473</td>\n",
       "    </tr>\n",
       "  </tbody>\n",
       "</table>\n",
       "</div>"
      ],
      "text/plain": [
       "    SIZE  PRICE\n",
       "0    100    345\n",
       "1    200    378\n",
       "2    469    521\n",
       "3    764    845\n",
       "4    978    999\n",
       "5    288    387\n",
       "6    375    476\n",
       "7    245    384\n",
       "8    798    876\n",
       "9    899    987\n",
       "10   999   1289\n",
       "11   234    324\n",
       "12   576    675\n",
       "13   789    978\n",
       "14  1020   1200\n",
       "15   347    473"
      ]
     },
     "execution_count": 1,
     "metadata": {},
     "output_type": "execute_result"
    }
   ],
   "source": [
    "import pandas as pd\n",
    "import numpy as np\n",
    "import math\n",
    "import matplotlib.pyplot as plt\n",
    "\n",
    "df = pd.read_csv(R\"HOUSE_DATA.CSV\")\n",
    "df.rename(columns={\"SalePrice\" : \"PRICE\",\"Id\":\"SIZE\"},inplace = True)\n",
    "df"
   ]
  },
  {
   "cell_type": "code",
   "execution_count": 2,
   "id": "a5ff5610",
   "metadata": {},
   "outputs": [
    {
     "name": "stdout",
     "output_type": "stream",
     "text": [
      "[ 100  200  469  764  978  288  375  245  798  899  999  234  576  789\n",
      " 1020  347] \n",
      " [ 345  378  521  845  999  387  476  384  876  987 1289  324  675  978\n",
      " 1200  473] \n",
      " 16\n"
     ]
    }
   ],
   "source": [
    "x_train = np.array(df.iloc[:,0])\n",
    "y_train = np.array(df.loc[:,\"PRICE\"])\n",
    "m = len(x_train)\n",
    "print(x_train,\"\\n\",y_train,\"\\n\",m)"
   ]
  },
  {
   "cell_type": "code",
   "execution_count": 3,
   "id": "c3da57b4",
   "metadata": {},
   "outputs": [],
   "source": [
    "def linear_model(x,w,b):\n",
    "    y = np.zeros(m)\n",
    "    total_cost = 0\n",
    "    for i in range(m):\n",
    "        y[i] = w*x[i]+b\n",
    "        cost = (y[i] - y_train[i])**2\n",
    "        total_cost += cost/2*m\n",
    "    return y,total_cost"
   ]
  },
  {
   "cell_type": "code",
   "execution_count": 4,
   "id": "c41cad21",
   "metadata": {},
   "outputs": [],
   "source": [
    "#Function to calculate the cost\n",
    "def compute_cost(x, y, w, b):\n",
    "   \n",
    "    m = x.shape[0] \n",
    "    cost = 0\n",
    "    \n",
    "    for i in range(m):\n",
    "        f_wb = w * x[i] + b\n",
    "        cost = cost + (f_wb - y[i])**2\n",
    "    total_cost = (1 / (2 * m)) * cost\n",
    "\n",
    "    return total_cost"
   ]
  },
  {
   "cell_type": "code",
   "execution_count": 5,
   "id": "6cc6dbac",
   "metadata": {},
   "outputs": [
    {
     "data": {
      "text/plain": [
       "<matplotlib.collections.PathCollection at 0x206802ec9a0>"
      ]
     },
     "execution_count": 5,
     "metadata": {},
     "output_type": "execute_result"
    },
    {
     "data": {
      "image/png": "[encoded data removed]",
      "text/plain": [
       "<Figure size 640x480 with 1 Axes>"
      ]
     },
     "metadata": {},
     "output_type": "display_data"
    }
   ],
   "source": [
    "plt.scatter(x_train,y_train)"
   ]
  },
  {
   "cell_type": "code",
   "execution_count": 6,
   "id": "41445486",
   "metadata": {},
   "outputs": [],
   "source": [
    "def compute_gradient(x, y, w, b,A): \n",
    "    \n",
    "    \n",
    "    # Number of training examples\n",
    "    m = x.shape[0]    \n",
    "    dj_dw = 0\n",
    "    dj_db = 0\n",
    "    wl = []\n",
    "    bl = []\n",
    "    jl = []\n",
    "    pl = []\n",
    "\n",
    "    for j in range(0,10):#100000\n",
    "        dj_dw = 0.0\n",
    "        dj_db = 0.0\n",
    "        for i in range(0,m):\n",
    "            f_wb = w * x[i] + b \n",
    "            dj_dw += ((f_wb - y[i]) * x[i])\n",
    "            dj_db += (f_wb - y[i])\n",
    "        dj_dw = dj_dw/m\n",
    "        dj_db = dj_db/m\n",
    "        w = w - (A * dj_dw)\n",
    "        b = b - (A * dj_db)\n",
    "        wl.append(w)\n",
    "        bl.append(b)\n",
    "        jl.append(dj_dw)\n",
    "        pl.append([w,b])\n",
    "        \n",
    "    return w, b,dj_dw,jl,wl,bl,pl"
   ]
  },
  {
   "cell_type": "code",
   "execution_count": 7,
   "id": "e9249e05",
   "metadata": {},
   "outputs": [
    {
     "name": "stdout",
     "output_type": "stream",
     "text": [
      "0.997927038815014\n"
     ]
    },
    {
     "data": {
      "image/png": "[encoded data removed]",
      "text/plain": [
       "<Figure size 1200x300 with 2 Axes>"
      ]
     },
     "metadata": {},
     "output_type": "display_data"
    }
   ],
   "source": [
    "a = y_train - x_train\n",
    "w_i = 1\n",
    "b_i = sum(a)/len(a)\n",
    "w,b,dj_dw,jl,wl,bl,pl = compute_gradient(x_train, y_train,w_i,b_i,0.000001)#0.00000001\n",
    "y,t_cost = linear_model(x_train,w,b)\n",
    "xp,yp,pl=np.array(x_train),np.array(y_train),np.array(pl)\n",
    "\n",
    "fig,(ax1,ax2)=plt.subplots(1,2,constrained_layout=True,figsize=(12,3))\n",
    "ax1.plot(wl,jl)\n",
    "ax2.plot(jl)\n",
    "print(wl[-1])\n",
    "jl,wl,bl = np.array(jl),np.array(wl),np.array(bl)"
   ]
  },
  {
   "cell_type": "code",
   "execution_count": 8,
   "id": "b50b8ad2",
   "metadata": {
    "scrolled": true
   },
   "outputs": [
    {
     "data": {
      "image/png": "[encoded data removed]",
      "text/plain": [
       "<Figure size 640x480 with 1 Axes>"
      ]
     },
     "metadata": {},
     "output_type": "display_data"
    },
    {
     "name": "stdout",
     "output_type": "stream",
     "text": [
      "[ 100  200  469  764  978  288  375  245  798  899  999  234  576  789\n",
      " 1020  347] [ 228.29271289  328.08541677  596.52779021  890.91626666 1104.47265297\n",
      "  415.90299619  502.72264857  372.99213352  924.84578598 1025.6364169\n",
      " 1125.42912079  362.01493609  703.30598337  915.86444264 1146.3855886\n",
      "  474.78069148] 0.997927038815014 128.5000090100726\n"
     ]
    }
   ],
   "source": [
    "plt.plot(x_train,y,color = \"k\",linewidth=2)\n",
    "plt.scatter(x_train,y_train,)\n",
    "# print(wl,bl,jl)\n",
    "plt.show()\n",
    "print(x_train,y,w,b)"
   ]
  },
  {
   "cell_type": "code",
   "execution_count": null,
   "id": "a4bc8302",
   "metadata": {},
   "outputs": [],
   "source": [
    "test = float(input(\"enter the size of the house: \"))\n",
    "print(\"predicted price: \",w*test+b)"
   ]
  },
  {
   "cell_type": "code",
   "execution_count": null,
   "id": "dd64d6a4",
   "metadata": {},
   "outputs": [],
   "source": []
  }
 ],
 "metadata": {
  "kernelspec": {
   "display_name": "Python 3 (ipykernel)",
   "language": "python",
   "name": "python3"
  },
  "language_info": {
   "codemirror_mode": {
    "name": "ipython",
    "version": 3
   },
   "file_extension": ".py",
   "mimetype": "text/x-python",
   "name": "python",
   "nbconvert_exporter": "python",
   "pygments_lexer": "ipython3",
   "version": "3.10.9"
  }
 },
 "nbformat": 4,
 "nbformat_minor": 5
}
