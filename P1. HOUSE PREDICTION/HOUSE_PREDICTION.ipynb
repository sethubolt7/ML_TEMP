{
 "cells": [
  {
   "cell_type": "markdown",
   "id": "f58f55f8",
   "metadata": {},
   "source": [
    "# HOUSE PREDICTION"
   ]
  },
  {
   "cell_type": "code",
   "execution_count": 1,
   "id": "addbb8fe",
   "metadata": {},
   "outputs": [
    {
     "data": {
      "text/html": [
       "<div>\n",
       "<style scoped>\n",
       "    .dataframe tbody tr th:only-of-type {\n",
       "        vertical-align: middle;\n",
       "    }\n",
       "\n",
       "    .dataframe tbody tr th {\n",
       "        vertical-align: top;\n",
       "    }\n",
       "\n",
       "    .dataframe thead th {\n",
       "        text-align: right;\n",
       "    }\n",
       "</style>\n",
       "<table border=\"1\" class=\"dataframe\">\n",
       "  <thead>\n",
       "    <tr style=\"text-align: right;\">\n",
       "      <th></th>\n",
       "      <th>SIZE</th>\n",
       "      <th>PRICE</th>\n",
       "    </tr>\n",
       "  </thead>\n",
       "  <tbody>\n",
       "    <tr>\n",
       "      <th>0</th>\n",
       "      <td>100</td>\n",
       "      <td>345</td>\n",
       "    </tr>\n",
       "    <tr>\n",
       "      <th>1</th>\n",
       "      <td>200</td>\n",
       "      <td>378</td>\n",
       "    </tr>\n",
       "    <tr>\n",
       "      <th>2</th>\n",
       "      <td>469</td>\n",
       "      <td>521</td>\n",
       "    </tr>\n",
       "    <tr>\n",
       "      <th>3</th>\n",
       "      <td>764</td>\n",
       "      <td>845</td>\n",
       "    </tr>\n",
       "    <tr>\n",
       "      <th>4</th>\n",
       "      <td>978</td>\n",
       "      <td>999</td>\n",
       "    </tr>\n",
       "    <tr>\n",
       "      <th>5</th>\n",
       "      <td>288</td>\n",
       "      <td>387</td>\n",
       "    </tr>\n",
       "    <tr>\n",
       "      <th>6</th>\n",
       "      <td>375</td>\n",
       "      <td>476</td>\n",
       "    </tr>\n",
       "    <tr>\n",
       "      <th>7</th>\n",
       "      <td>245</td>\n",
       "      <td>384</td>\n",
       "    </tr>\n",
       "    <tr>\n",
       "      <th>8</th>\n",
       "      <td>798</td>\n",
       "      <td>876</td>\n",
       "    </tr>\n",
       "    <tr>\n",
       "      <th>9</th>\n",
       "      <td>899</td>\n",
       "      <td>987</td>\n",
       "    </tr>\n",
       "    <tr>\n",
       "      <th>10</th>\n",
       "      <td>999</td>\n",
       "      <td>1289</td>\n",
       "    </tr>\n",
       "    <tr>\n",
       "      <th>11</th>\n",
       "      <td>234</td>\n",
       "      <td>324</td>\n",
       "    </tr>\n",
       "    <tr>\n",
       "      <th>12</th>\n",
       "      <td>576</td>\n",
       "      <td>675</td>\n",
       "    </tr>\n",
       "    <tr>\n",
       "      <th>13</th>\n",
       "      <td>789</td>\n",
       "      <td>978</td>\n",
       "    </tr>\n",
       "    <tr>\n",
       "      <th>14</th>\n",
       "      <td>1020</td>\n",
       "      <td>1200</td>\n",
       "    </tr>\n",
       "    <tr>\n",
       "      <th>15</th>\n",
       "      <td>347</td>\n",
       "      <td>473</td>\n",
       "    </tr>\n",
       "  </tbody>\n",
       "</table>\n",
       "</div>"
      ],
      "text/plain": [
       "    SIZE  PRICE\n",
       "0    100    345\n",
       "1    200    378\n",
       "2    469    521\n",
       "3    764    845\n",
       "4    978    999\n",
       "5    288    387\n",
       "6    375    476\n",
       "7    245    384\n",
       "8    798    876\n",
       "9    899    987\n",
       "10   999   1289\n",
       "11   234    324\n",
       "12   576    675\n",
       "13   789    978\n",
       "14  1020   1200\n",
       "15   347    473"
      ]
     },
     "execution_count": 1,
     "metadata": {},
     "output_type": "execute_result"
    }
   ],
   "source": [
    "import pandas as pd\n",
    "import numpy as np\n",
    "import matplotlib.pyplot as plt\n",
    "df = pd.read_csv(R\"HOUSE_DATA.CSV\")\n",
    "df.rename(columns={\"SalePrice\" : \"PRICE\",\"Id\":\"SIZE\"},inplace = True)\n",
    "df"
   ]
  },
  {
   "cell_type": "markdown",
   "id": "4c291702",
   "metadata": {},
   "source": [
    "# EDA"
   ]
  },
  {
   "cell_type": "code",
   "execution_count": 2,
   "id": "897e7fff",
   "metadata": {},
   "outputs": [
    {
     "name": "stdout",
     "output_type": "stream",
     "text": [
      "[ 100  200  469  764  978  288  375  245  798  899  999  234  576  789\n",
      " 1020  347] \n",
      " [ 345  378  521  845  999  387  476  384  876  987 1289  324  675  978\n",
      " 1200  473] \n",
      " 16\n"
     ]
    }
   ],
   "source": [
    "x_train = np.array(df.iloc[:,0])\n",
    "y_train = np.array(df.loc[:,\"PRICE\"])\n",
    "m = len(x_train)\n",
    "print(x_train,\"\\n\",y_train,\"\\n\",m)"
   ]
  },
  {
   "cell_type": "code",
   "execution_count": 3,
   "id": "53b2e7e8",
   "metadata": {},
   "outputs": [
    {
     "data": {
      "text/plain": [
       "<matplotlib.collections.PathCollection at 0x1bcde9d8970>"
      ]
     },
     "execution_count": 3,
     "metadata": {},
     "output_type": "execute_result"
    },
    {
     "data": {
      "image/png": "[encoded data removed]",
      "text/plain": [
       "<Figure size 640x480 with 1 Axes>"
      ]
     },
     "metadata": {},
     "output_type": "display_data"
    }
   ],
   "source": [
    "plt.scatter(x_train,y_train)"
   ]
  },
  {
   "cell_type": "markdown",
   "id": "50119209",
   "metadata": {},
   "source": [
    "## LINEAR REGRESSION WITH ONE VARIABLE MODEL"
   ]
  },
  {
   "cell_type": "code",
   "execution_count": 4,
   "id": "f48a06d3",
   "metadata": {},
   "outputs": [],
   "source": [
    "# finding cost as well as Y^\n",
    "def linear_model(x,w,b):\n",
    "    y = np.zeros(m)\n",
    "    total_cost = 0\n",
    "    for i in range(m):\n",
    "        y[i] = w*x[i]+b\n",
    "        cost = (y[i] - y_train[i])**2\n",
    "        total_cost += cost/2*m\n",
    "    return y,total_cost"
   ]
  },
  {
   "cell_type": "code",
   "execution_count": 5,
   "id": "f8ac93d4",
   "metadata": {},
   "outputs": [],
   "source": [
    "# def cost_compute(x,w,b):\n",
    "#     y = np.zeros(m)\n",
    "#     total_cost = 0\n",
    "#     for i in range(m):\n",
    "#         y[i] = w*x[i]+b\n",
    "#         cost =cost + (y[i] - y_train[i])**2\n",
    "#         total_cost = cost/2*m\n",
    "#     return total_cost\n",
    "# a = y_train - x_train\n",
    "\n",
    "# w = 1\n",
    "# b = sum(a)/len(a)\n",
    "\n",
    "# cost_compute(x_train,w,b)"
   ]
  },
  {
   "cell_type": "code",
   "execution_count": 6,
   "id": "1f0cd266",
   "metadata": {},
   "outputs": [],
   "source": [
    "# def gradient_compute(x,y,w,b):\n",
    "#     dj_dw_i = 0\n",
    "#     dj_db_i = 0\n",
    "#     dj_dw = 0\n",
    "#     dj_db = 0\n",
    "#     for i in range(m):\n",
    "#         dj_dw_i = (w*x[i]+b - y[i])*x[i]\n",
    "#         dj_db_i = (w*x[i]+b - y[i])\n",
    "#         dj_db += dj_db_i\n",
    "#         dj_dw += dj_dw_i \n",
    "#     dj_dw = dj_dw_i/m\n",
    "#     dj_db = dj_db_i/m\n",
    "#     return dj_dw,dj_db\n",
    "# gradient_compute(x_train,y_train,w,b)"
   ]
  },
  {
   "cell_type": "code",
   "execution_count": 7,
   "id": "bb752bfd",
   "metadata": {},
   "outputs": [],
   "source": [
    "# def gradient_descent(x_train,y_train,w,b):\n",
    "#     A = 0.1\n",
    "    \n",
    "#     for i in range(100):\n",
    "#         dj_dw,dj_db = gradient_compute(x_train,y_train,w,b)\n",
    "#         b = b- dj_db * A\n",
    "#         w = w- dj_dw * A\n",
    "#     print(w,b)\n",
    "# gradient_descent(x_train,y_train,w,b)"
   ]
  },
  {
   "cell_type": "code",
   "execution_count": 8,
   "id": "35e7c300",
   "metadata": {},
   "outputs": [
    {
     "name": "stdout",
     "output_type": "stream",
     "text": [
      "1 128.5\n",
      "[ 228.5  328.5  597.5  892.5 1106.5  416.5  503.5  373.5  926.5 1027.5\n",
      " 1127.5  362.5  704.5  917.5 1148.5  475.5] \n",
      " TOTAL COST FOR THIS W :  610944.0\n"
     ]
    },
    {
     "data": {
      "text/plain": [
       "Text(0, 0.5, 'Price')"
      ]
     },
     "execution_count": 8,
     "metadata": {},
     "output_type": "execute_result"
    },
    {
     "data": {
      "image/png": "[encoded data removed]",
      "text/plain": [
       "<Figure size 640x480 with 1 Axes>"
      ]
     },
     "metadata": {},
     "output_type": "display_data"
    }
   ],
   "source": [
    "a = y_train - x_train\n",
    "\n",
    "w = 1\n",
    "b = sum(a)/len(a)\n",
    "# w,b=0,0\n",
    "print(w,b)\n",
    "y ,  cost = linear_model(x_train,w,b)#w,b = 1.1719,  0.0325\n",
    "print(y,\"\\n\",\"TOTAL COST FOR THIS W : \",cost)\n",
    "\n",
    "plt.scatter(x_train,y_train)\n",
    "plt.plot(x_train,y,color = \"k\",linewidth=3)\n",
    "plt.title(\"House Price Prediction\")\n",
    "plt.xlabel(\"Size\")\n",
    "plt.ylabel(\"Price\")\n"
   ]
  },
  {
   "cell_type": "markdown",
   "id": "8b387c05",
   "metadata": {},
   "source": [
    "# PREDICTION"
   ]
  },
  {
   "cell_type": "code",
   "execution_count": 10,
   "id": "27a75d10",
   "metadata": {
    "scrolled": true
   },
   "outputs": [
    {
     "name": "stdout",
     "output_type": "stream",
     "text": [
      "enter the house size :10000\n",
      "the price predicted to be :10128.5\n"
     ]
    }
   ],
   "source": [
    "size = float(input(\"enter the house size :\"))\n",
    "print(f\"the price predicted to be :{w*size+b}\")"
   ]
  },
  {
   "cell_type": "code",
   "execution_count": null,
   "id": "e0433063",
   "metadata": {},
   "outputs": [],
   "source": []
  }
 ],
 "metadata": {
  "kernelspec": {
   "display_name": "Python 3 (ipykernel)",
   "language": "python",
   "name": "python3"
  },
  "language_info": {
   "codemirror_mode": {
    "name": "ipython",
    "version": 3
   },
   "file_extension": ".py",
   "mimetype": "text/x-python",
   "name": "python",
   "nbconvert_exporter": "python",
   "pygments_lexer": "ipython3",
   "version": "3.10.9"
  }
 },
 "nbformat": 4,
 "nbformat_minor": 5
}
